{
 "cells": [
  {
   "cell_type": "code",
   "execution_count": 1,
   "id": "0ea814cf",
   "metadata": {
    "execution": {
     "iopub.execute_input": "2024-09-20T17:21:18.410475Z",
     "iopub.status.busy": "2024-09-20T17:21:18.410023Z",
     "iopub.status.idle": "2024-09-20T17:21:20.825727Z",
     "shell.execute_reply": "2024-09-20T17:21:20.824818Z"
    },
    "papermill": {
     "duration": 2.42575,
     "end_time": "2024-09-20T17:21:20.828362",
     "exception": false,
     "start_time": "2024-09-20T17:21:18.402612",
     "status": "completed"
    },
    "tags": []
   },
   "outputs": [],
   "source": [
    "import pandas as pd\n",
    "import numpy as np\n",
    "import matplotlib.pyplot as plt\n",
    "from scipy.stats import pearsonr, chi2_contingency\n",
    "import seaborn as sns"
   ]
  },
  {
   "cell_type": "code",
   "execution_count": 2,
   "id": "ae38a881",
   "metadata": {
    "execution": {
     "iopub.execute_input": "2024-09-20T17:21:20.840510Z",
     "iopub.status.busy": "2024-09-20T17:21:20.839916Z",
     "iopub.status.idle": "2024-09-20T17:21:21.592338Z",
     "shell.execute_reply": "2024-09-20T17:21:21.591368Z"
    },
    "papermill": {
     "duration": 0.761455,
     "end_time": "2024-09-20T17:21:21.595137",
     "exception": false,
     "start_time": "2024-09-20T17:21:20.833682",
     "status": "completed"
    },
    "tags": []
   },
   "outputs": [],
   "source": [
    "nba = pd.read_csv('/kaggle/input/fivethirtyeight-nba-elo-dataset/nbaallelo.csv')"
   ]
  },
  {
   "cell_type": "code",
   "execution_count": 3,
   "id": "6d245d4c",
   "metadata": {
    "execution": {
     "iopub.execute_input": "2024-09-20T17:21:21.607173Z",
     "iopub.status.busy": "2024-09-20T17:21:21.606242Z",
     "iopub.status.idle": "2024-09-20T17:21:21.760810Z",
     "shell.execute_reply": "2024-09-20T17:21:21.759698Z"
    },
    "papermill": {
     "duration": 0.162977,
     "end_time": "2024-09-20T17:21:21.763220",
     "exception": false,
     "start_time": "2024-09-20T17:21:21.600243",
     "status": "completed"
    },
    "tags": []
   },
   "outputs": [
    {
     "data": {
      "text/html": [
       "<div>\n",
       "<style scoped>\n",
       "    .dataframe tbody tr th:only-of-type {\n",
       "        vertical-align: middle;\n",
       "    }\n",
       "\n",
       "    .dataframe tbody tr th {\n",
       "        vertical-align: top;\n",
       "    }\n",
       "\n",
       "    .dataframe thead th {\n",
       "        text-align: right;\n",
       "    }\n",
       "</style>\n",
       "<table border=\"1\" class=\"dataframe\">\n",
       "  <thead>\n",
       "    <tr style=\"text-align: right;\">\n",
       "      <th></th>\n",
       "      <th>gameorder</th>\n",
       "      <th>game_id</th>\n",
       "      <th>lg_id</th>\n",
       "      <th>_iscopy</th>\n",
       "      <th>year_id</th>\n",
       "      <th>date_game</th>\n",
       "      <th>seasongame</th>\n",
       "      <th>is_playoffs</th>\n",
       "      <th>team_id</th>\n",
       "      <th>fran_id</th>\n",
       "      <th>...</th>\n",
       "      <th>win_equiv</th>\n",
       "      <th>opp_id</th>\n",
       "      <th>opp_fran</th>\n",
       "      <th>opp_pts</th>\n",
       "      <th>opp_elo_i</th>\n",
       "      <th>opp_elo_n</th>\n",
       "      <th>game_location</th>\n",
       "      <th>game_result</th>\n",
       "      <th>forecast</th>\n",
       "      <th>notes</th>\n",
       "    </tr>\n",
       "  </thead>\n",
       "  <tbody>\n",
       "    <tr>\n",
       "      <th>0</th>\n",
       "      <td>1</td>\n",
       "      <td>194611010TRH</td>\n",
       "      <td>NBA</td>\n",
       "      <td>0</td>\n",
       "      <td>1947</td>\n",
       "      <td>11/1/1946</td>\n",
       "      <td>1</td>\n",
       "      <td>0</td>\n",
       "      <td>TRH</td>\n",
       "      <td>Huskies</td>\n",
       "      <td>...</td>\n",
       "      <td>40.294830</td>\n",
       "      <td>NYK</td>\n",
       "      <td>Knicks</td>\n",
       "      <td>68</td>\n",
       "      <td>1300.0000</td>\n",
       "      <td>1306.7233</td>\n",
       "      <td>H</td>\n",
       "      <td>L</td>\n",
       "      <td>0.640065</td>\n",
       "      <td>NaN</td>\n",
       "    </tr>\n",
       "    <tr>\n",
       "      <th>1</th>\n",
       "      <td>1</td>\n",
       "      <td>194611010TRH</td>\n",
       "      <td>NBA</td>\n",
       "      <td>1</td>\n",
       "      <td>1947</td>\n",
       "      <td>11/1/1946</td>\n",
       "      <td>1</td>\n",
       "      <td>0</td>\n",
       "      <td>NYK</td>\n",
       "      <td>Knicks</td>\n",
       "      <td>...</td>\n",
       "      <td>41.705170</td>\n",
       "      <td>TRH</td>\n",
       "      <td>Huskies</td>\n",
       "      <td>66</td>\n",
       "      <td>1300.0000</td>\n",
       "      <td>1293.2767</td>\n",
       "      <td>A</td>\n",
       "      <td>W</td>\n",
       "      <td>0.359935</td>\n",
       "      <td>NaN</td>\n",
       "    </tr>\n",
       "    <tr>\n",
       "      <th>2</th>\n",
       "      <td>2</td>\n",
       "      <td>194611020CHS</td>\n",
       "      <td>NBA</td>\n",
       "      <td>0</td>\n",
       "      <td>1947</td>\n",
       "      <td>11/2/1946</td>\n",
       "      <td>1</td>\n",
       "      <td>0</td>\n",
       "      <td>CHS</td>\n",
       "      <td>Stags</td>\n",
       "      <td>...</td>\n",
       "      <td>42.012257</td>\n",
       "      <td>NYK</td>\n",
       "      <td>Knicks</td>\n",
       "      <td>47</td>\n",
       "      <td>1306.7233</td>\n",
       "      <td>1297.0712</td>\n",
       "      <td>H</td>\n",
       "      <td>W</td>\n",
       "      <td>0.631101</td>\n",
       "      <td>NaN</td>\n",
       "    </tr>\n",
       "    <tr>\n",
       "      <th>3</th>\n",
       "      <td>2</td>\n",
       "      <td>194611020CHS</td>\n",
       "      <td>NBA</td>\n",
       "      <td>1</td>\n",
       "      <td>1947</td>\n",
       "      <td>11/2/1946</td>\n",
       "      <td>2</td>\n",
       "      <td>0</td>\n",
       "      <td>NYK</td>\n",
       "      <td>Knicks</td>\n",
       "      <td>...</td>\n",
       "      <td>40.692783</td>\n",
       "      <td>CHS</td>\n",
       "      <td>Stags</td>\n",
       "      <td>63</td>\n",
       "      <td>1300.0000</td>\n",
       "      <td>1309.6521</td>\n",
       "      <td>A</td>\n",
       "      <td>L</td>\n",
       "      <td>0.368899</td>\n",
       "      <td>NaN</td>\n",
       "    </tr>\n",
       "    <tr>\n",
       "      <th>4</th>\n",
       "      <td>3</td>\n",
       "      <td>194611020DTF</td>\n",
       "      <td>NBA</td>\n",
       "      <td>0</td>\n",
       "      <td>1947</td>\n",
       "      <td>11/2/1946</td>\n",
       "      <td>1</td>\n",
       "      <td>0</td>\n",
       "      <td>DTF</td>\n",
       "      <td>Falcons</td>\n",
       "      <td>...</td>\n",
       "      <td>38.864048</td>\n",
       "      <td>WSC</td>\n",
       "      <td>Capitols</td>\n",
       "      <td>50</td>\n",
       "      <td>1300.0000</td>\n",
       "      <td>1320.3811</td>\n",
       "      <td>H</td>\n",
       "      <td>L</td>\n",
       "      <td>0.640065</td>\n",
       "      <td>NaN</td>\n",
       "    </tr>\n",
       "    <tr>\n",
       "      <th>...</th>\n",
       "      <td>...</td>\n",
       "      <td>...</td>\n",
       "      <td>...</td>\n",
       "      <td>...</td>\n",
       "      <td>...</td>\n",
       "      <td>...</td>\n",
       "      <td>...</td>\n",
       "      <td>...</td>\n",
       "      <td>...</td>\n",
       "      <td>...</td>\n",
       "      <td>...</td>\n",
       "      <td>...</td>\n",
       "      <td>...</td>\n",
       "      <td>...</td>\n",
       "      <td>...</td>\n",
       "      <td>...</td>\n",
       "      <td>...</td>\n",
       "      <td>...</td>\n",
       "      <td>...</td>\n",
       "      <td>...</td>\n",
       "      <td>...</td>\n",
       "    </tr>\n",
       "    <tr>\n",
       "      <th>126309</th>\n",
       "      <td>63155</td>\n",
       "      <td>201506110CLE</td>\n",
       "      <td>NBA</td>\n",
       "      <td>0</td>\n",
       "      <td>2015</td>\n",
       "      <td>6/11/2015</td>\n",
       "      <td>100</td>\n",
       "      <td>1</td>\n",
       "      <td>CLE</td>\n",
       "      <td>Cavaliers</td>\n",
       "      <td>...</td>\n",
       "      <td>60.309792</td>\n",
       "      <td>GSW</td>\n",
       "      <td>Warriors</td>\n",
       "      <td>103</td>\n",
       "      <td>1790.9591</td>\n",
       "      <td>1809.9791</td>\n",
       "      <td>H</td>\n",
       "      <td>L</td>\n",
       "      <td>0.546572</td>\n",
       "      <td>NaN</td>\n",
       "    </tr>\n",
       "    <tr>\n",
       "      <th>126310</th>\n",
       "      <td>63156</td>\n",
       "      <td>201506140GSW</td>\n",
       "      <td>NBA</td>\n",
       "      <td>0</td>\n",
       "      <td>2015</td>\n",
       "      <td>6/14/2015</td>\n",
       "      <td>102</td>\n",
       "      <td>1</td>\n",
       "      <td>GSW</td>\n",
       "      <td>Warriors</td>\n",
       "      <td>...</td>\n",
       "      <td>68.013329</td>\n",
       "      <td>CLE</td>\n",
       "      <td>Cavaliers</td>\n",
       "      <td>91</td>\n",
       "      <td>1704.3949</td>\n",
       "      <td>1700.7391</td>\n",
       "      <td>H</td>\n",
       "      <td>W</td>\n",
       "      <td>0.765565</td>\n",
       "      <td>NaN</td>\n",
       "    </tr>\n",
       "    <tr>\n",
       "      <th>126311</th>\n",
       "      <td>63156</td>\n",
       "      <td>201506140GSW</td>\n",
       "      <td>NBA</td>\n",
       "      <td>1</td>\n",
       "      <td>2015</td>\n",
       "      <td>6/14/2015</td>\n",
       "      <td>101</td>\n",
       "      <td>1</td>\n",
       "      <td>CLE</td>\n",
       "      <td>Cavaliers</td>\n",
       "      <td>...</td>\n",
       "      <td>60.010067</td>\n",
       "      <td>GSW</td>\n",
       "      <td>Warriors</td>\n",
       "      <td>104</td>\n",
       "      <td>1809.9791</td>\n",
       "      <td>1813.6349</td>\n",
       "      <td>A</td>\n",
       "      <td>L</td>\n",
       "      <td>0.234435</td>\n",
       "      <td>NaN</td>\n",
       "    </tr>\n",
       "    <tr>\n",
       "      <th>126312</th>\n",
       "      <td>63157</td>\n",
       "      <td>201506170CLE</td>\n",
       "      <td>NBA</td>\n",
       "      <td>0</td>\n",
       "      <td>2015</td>\n",
       "      <td>6/16/2015</td>\n",
       "      <td>102</td>\n",
       "      <td>1</td>\n",
       "      <td>CLE</td>\n",
       "      <td>Cavaliers</td>\n",
       "      <td>...</td>\n",
       "      <td>59.290245</td>\n",
       "      <td>GSW</td>\n",
       "      <td>Warriors</td>\n",
       "      <td>105</td>\n",
       "      <td>1813.6349</td>\n",
       "      <td>1822.2881</td>\n",
       "      <td>H</td>\n",
       "      <td>L</td>\n",
       "      <td>0.481450</td>\n",
       "      <td>NaN</td>\n",
       "    </tr>\n",
       "    <tr>\n",
       "      <th>126313</th>\n",
       "      <td>63157</td>\n",
       "      <td>201506170CLE</td>\n",
       "      <td>NBA</td>\n",
       "      <td>1</td>\n",
       "      <td>2015</td>\n",
       "      <td>6/16/2015</td>\n",
       "      <td>103</td>\n",
       "      <td>1</td>\n",
       "      <td>GSW</td>\n",
       "      <td>Warriors</td>\n",
       "      <td>...</td>\n",
       "      <td>68.519516</td>\n",
       "      <td>CLE</td>\n",
       "      <td>Cavaliers</td>\n",
       "      <td>97</td>\n",
       "      <td>1700.7391</td>\n",
       "      <td>1692.0859</td>\n",
       "      <td>A</td>\n",
       "      <td>W</td>\n",
       "      <td>0.518550</td>\n",
       "      <td>NaN</td>\n",
       "    </tr>\n",
       "  </tbody>\n",
       "</table>\n",
       "<p>126314 rows × 23 columns</p>\n",
       "</div>"
      ],
      "text/plain": [
       "        gameorder       game_id lg_id  _iscopy  year_id  date_game  \\\n",
       "0               1  194611010TRH   NBA        0     1947  11/1/1946   \n",
       "1               1  194611010TRH   NBA        1     1947  11/1/1946   \n",
       "2               2  194611020CHS   NBA        0     1947  11/2/1946   \n",
       "3               2  194611020CHS   NBA        1     1947  11/2/1946   \n",
       "4               3  194611020DTF   NBA        0     1947  11/2/1946   \n",
       "...           ...           ...   ...      ...      ...        ...   \n",
       "126309      63155  201506110CLE   NBA        0     2015  6/11/2015   \n",
       "126310      63156  201506140GSW   NBA        0     2015  6/14/2015   \n",
       "126311      63156  201506140GSW   NBA        1     2015  6/14/2015   \n",
       "126312      63157  201506170CLE   NBA        0     2015  6/16/2015   \n",
       "126313      63157  201506170CLE   NBA        1     2015  6/16/2015   \n",
       "\n",
       "        seasongame  is_playoffs team_id    fran_id  ...  win_equiv  opp_id  \\\n",
       "0                1            0     TRH    Huskies  ...  40.294830     NYK   \n",
       "1                1            0     NYK     Knicks  ...  41.705170     TRH   \n",
       "2                1            0     CHS      Stags  ...  42.012257     NYK   \n",
       "3                2            0     NYK     Knicks  ...  40.692783     CHS   \n",
       "4                1            0     DTF    Falcons  ...  38.864048     WSC   \n",
       "...            ...          ...     ...        ...  ...        ...     ...   \n",
       "126309         100            1     CLE  Cavaliers  ...  60.309792     GSW   \n",
       "126310         102            1     GSW   Warriors  ...  68.013329     CLE   \n",
       "126311         101            1     CLE  Cavaliers  ...  60.010067     GSW   \n",
       "126312         102            1     CLE  Cavaliers  ...  59.290245     GSW   \n",
       "126313         103            1     GSW   Warriors  ...  68.519516     CLE   \n",
       "\n",
       "         opp_fran  opp_pts  opp_elo_i  opp_elo_n  game_location  game_result  \\\n",
       "0          Knicks       68  1300.0000  1306.7233              H            L   \n",
       "1         Huskies       66  1300.0000  1293.2767              A            W   \n",
       "2          Knicks       47  1306.7233  1297.0712              H            W   \n",
       "3           Stags       63  1300.0000  1309.6521              A            L   \n",
       "4        Capitols       50  1300.0000  1320.3811              H            L   \n",
       "...           ...      ...        ...        ...            ...          ...   \n",
       "126309   Warriors      103  1790.9591  1809.9791              H            L   \n",
       "126310  Cavaliers       91  1704.3949  1700.7391              H            W   \n",
       "126311   Warriors      104  1809.9791  1813.6349              A            L   \n",
       "126312   Warriors      105  1813.6349  1822.2881              H            L   \n",
       "126313  Cavaliers       97  1700.7391  1692.0859              A            W   \n",
       "\n",
       "        forecast notes  \n",
       "0       0.640065   NaN  \n",
       "1       0.359935   NaN  \n",
       "2       0.631101   NaN  \n",
       "3       0.368899   NaN  \n",
       "4       0.640065   NaN  \n",
       "...          ...   ...  \n",
       "126309  0.546572   NaN  \n",
       "126310  0.765565   NaN  \n",
       "126311  0.234435   NaN  \n",
       "126312  0.481450   NaN  \n",
       "126313  0.518550   NaN  \n",
       "\n",
       "[126314 rows x 23 columns]"
      ]
     },
     "execution_count": 3,
     "metadata": {},
     "output_type": "execute_result"
    }
   ],
   "source": [
    "nba"
   ]
  },
  {
   "cell_type": "code",
   "execution_count": 4,
   "id": "92e96735",
   "metadata": {
    "execution": {
     "iopub.execute_input": "2024-09-20T17:21:21.775992Z",
     "iopub.status.busy": "2024-09-20T17:21:21.775608Z",
     "iopub.status.idle": "2024-09-20T17:21:21.784135Z",
     "shell.execute_reply": "2024-09-20T17:21:21.783040Z"
    },
    "papermill": {
     "duration": 0.017537,
     "end_time": "2024-09-20T17:21:21.786532",
     "exception": false,
     "start_time": "2024-09-20T17:21:21.768995",
     "status": "completed"
    },
    "tags": []
   },
   "outputs": [],
   "source": [
    "nba_2010 = nba[nba.year_id == 2010]\n",
    "nba_2014 = nba[nba.year_id == 2014]"
   ]
  },
  {
   "cell_type": "code",
   "execution_count": 5,
   "id": "5d5a108f",
   "metadata": {
    "execution": {
     "iopub.execute_input": "2024-09-20T17:21:21.799736Z",
     "iopub.status.busy": "2024-09-20T17:21:21.799041Z",
     "iopub.status.idle": "2024-09-20T17:21:21.827057Z",
     "shell.execute_reply": "2024-09-20T17:21:21.825603Z"
    },
    "papermill": {
     "duration": 0.038388,
     "end_time": "2024-09-20T17:21:21.830479",
     "exception": false,
     "start_time": "2024-09-20T17:21:21.792091",
     "status": "completed"
    },
    "tags": []
   },
   "outputs": [
    {
     "data": {
      "text/html": [
       "<div>\n",
       "<style scoped>\n",
       "    .dataframe tbody tr th:only-of-type {\n",
       "        vertical-align: middle;\n",
       "    }\n",
       "\n",
       "    .dataframe tbody tr th {\n",
       "        vertical-align: top;\n",
       "    }\n",
       "\n",
       "    .dataframe thead th {\n",
       "        text-align: right;\n",
       "    }\n",
       "</style>\n",
       "<table border=\"1\" class=\"dataframe\">\n",
       "  <thead>\n",
       "    <tr style=\"text-align: right;\">\n",
       "      <th></th>\n",
       "      <th>gameorder</th>\n",
       "      <th>game_id</th>\n",
       "      <th>lg_id</th>\n",
       "      <th>_iscopy</th>\n",
       "      <th>year_id</th>\n",
       "      <th>date_game</th>\n",
       "      <th>seasongame</th>\n",
       "      <th>is_playoffs</th>\n",
       "      <th>team_id</th>\n",
       "      <th>fran_id</th>\n",
       "      <th>...</th>\n",
       "      <th>win_equiv</th>\n",
       "      <th>opp_id</th>\n",
       "      <th>opp_fran</th>\n",
       "      <th>opp_pts</th>\n",
       "      <th>opp_elo_i</th>\n",
       "      <th>opp_elo_n</th>\n",
       "      <th>game_location</th>\n",
       "      <th>game_result</th>\n",
       "      <th>forecast</th>\n",
       "      <th>notes</th>\n",
       "    </tr>\n",
       "  </thead>\n",
       "  <tbody>\n",
       "    <tr>\n",
       "      <th>121054</th>\n",
       "      <td>60528</td>\n",
       "      <td>201310290IND</td>\n",
       "      <td>NBA</td>\n",
       "      <td>1</td>\n",
       "      <td>2014</td>\n",
       "      <td>10/29/2013</td>\n",
       "      <td>1</td>\n",
       "      <td>0</td>\n",
       "      <td>ORL</td>\n",
       "      <td>Magic</td>\n",
       "      <td>...</td>\n",
       "      <td>22.266760</td>\n",
       "      <td>IND</td>\n",
       "      <td>Pacers</td>\n",
       "      <td>97</td>\n",
       "      <td>1583.5721</td>\n",
       "      <td>1585.2700</td>\n",
       "      <td>A</td>\n",
       "      <td>L</td>\n",
       "      <td>0.106039</td>\n",
       "      <td>NaN</td>\n",
       "    </tr>\n",
       "    <tr>\n",
       "      <th>121055</th>\n",
       "      <td>60528</td>\n",
       "      <td>201310290IND</td>\n",
       "      <td>NBA</td>\n",
       "      <td>0</td>\n",
       "      <td>2014</td>\n",
       "      <td>10/29/2013</td>\n",
       "      <td>1</td>\n",
       "      <td>0</td>\n",
       "      <td>IND</td>\n",
       "      <td>Pacers</td>\n",
       "      <td>...</td>\n",
       "      <td>49.365368</td>\n",
       "      <td>ORL</td>\n",
       "      <td>Magic</td>\n",
       "      <td>87</td>\n",
       "      <td>1313.2317</td>\n",
       "      <td>1311.5338</td>\n",
       "      <td>H</td>\n",
       "      <td>W</td>\n",
       "      <td>0.893961</td>\n",
       "      <td>NaN</td>\n",
       "    </tr>\n",
       "    <tr>\n",
       "      <th>121056</th>\n",
       "      <td>60529</td>\n",
       "      <td>201310290LAL</td>\n",
       "      <td>NBA</td>\n",
       "      <td>0</td>\n",
       "      <td>2014</td>\n",
       "      <td>10/29/2013</td>\n",
       "      <td>1</td>\n",
       "      <td>0</td>\n",
       "      <td>LAL</td>\n",
       "      <td>Lakers</td>\n",
       "      <td>...</td>\n",
       "      <td>42.866776</td>\n",
       "      <td>LAC</td>\n",
       "      <td>Clippers</td>\n",
       "      <td>103</td>\n",
       "      <td>1586.5884</td>\n",
       "      <td>1575.4142</td>\n",
       "      <td>H</td>\n",
       "      <td>W</td>\n",
       "      <td>0.535102</td>\n",
       "      <td>NaN</td>\n",
       "    </tr>\n",
       "    <tr>\n",
       "      <th>121057</th>\n",
       "      <td>60529</td>\n",
       "      <td>201310290LAL</td>\n",
       "      <td>NBA</td>\n",
       "      <td>1</td>\n",
       "      <td>2014</td>\n",
       "      <td>10/29/2013</td>\n",
       "      <td>1</td>\n",
       "      <td>0</td>\n",
       "      <td>LAC</td>\n",
       "      <td>Clippers</td>\n",
       "      <td>...</td>\n",
       "      <td>48.369659</td>\n",
       "      <td>LAL</td>\n",
       "      <td>Lakers</td>\n",
       "      <td>116</td>\n",
       "      <td>1511.0200</td>\n",
       "      <td>1522.1942</td>\n",
       "      <td>A</td>\n",
       "      <td>L</td>\n",
       "      <td>0.464898</td>\n",
       "      <td>NaN</td>\n",
       "    </tr>\n",
       "    <tr>\n",
       "      <th>121058</th>\n",
       "      <td>60530</td>\n",
       "      <td>201310290MIA</td>\n",
       "      <td>NBA</td>\n",
       "      <td>1</td>\n",
       "      <td>2014</td>\n",
       "      <td>10/29/2013</td>\n",
       "      <td>1</td>\n",
       "      <td>0</td>\n",
       "      <td>CHI</td>\n",
       "      <td>Bulls</td>\n",
       "      <td>...</td>\n",
       "      <td>42.281761</td>\n",
       "      <td>MIA</td>\n",
       "      <td>Heat</td>\n",
       "      <td>107</td>\n",
       "      <td>1691.8896</td>\n",
       "      <td>1695.1932</td>\n",
       "      <td>A</td>\n",
       "      <td>L</td>\n",
       "      <td>0.172841</td>\n",
       "      <td>NaN</td>\n",
       "    </tr>\n",
       "  </tbody>\n",
       "</table>\n",
       "<p>5 rows × 23 columns</p>\n",
       "</div>"
      ],
      "text/plain": [
       "        gameorder       game_id lg_id  _iscopy  year_id   date_game  \\\n",
       "121054      60528  201310290IND   NBA        1     2014  10/29/2013   \n",
       "121055      60528  201310290IND   NBA        0     2014  10/29/2013   \n",
       "121056      60529  201310290LAL   NBA        0     2014  10/29/2013   \n",
       "121057      60529  201310290LAL   NBA        1     2014  10/29/2013   \n",
       "121058      60530  201310290MIA   NBA        1     2014  10/29/2013   \n",
       "\n",
       "        seasongame  is_playoffs team_id   fran_id  ...  win_equiv  opp_id  \\\n",
       "121054           1            0     ORL     Magic  ...  22.266760     IND   \n",
       "121055           1            0     IND    Pacers  ...  49.365368     ORL   \n",
       "121056           1            0     LAL    Lakers  ...  42.866776     LAC   \n",
       "121057           1            0     LAC  Clippers  ...  48.369659     LAL   \n",
       "121058           1            0     CHI     Bulls  ...  42.281761     MIA   \n",
       "\n",
       "        opp_fran  opp_pts  opp_elo_i  opp_elo_n  game_location  game_result  \\\n",
       "121054    Pacers       97  1583.5721  1585.2700              A            L   \n",
       "121055     Magic       87  1313.2317  1311.5338              H            W   \n",
       "121056  Clippers      103  1586.5884  1575.4142              H            W   \n",
       "121057    Lakers      116  1511.0200  1522.1942              A            L   \n",
       "121058      Heat      107  1691.8896  1695.1932              A            L   \n",
       "\n",
       "        forecast notes  \n",
       "121054  0.106039   NaN  \n",
       "121055  0.893961   NaN  \n",
       "121056  0.535102   NaN  \n",
       "121057  0.464898   NaN  \n",
       "121058  0.172841   NaN  \n",
       "\n",
       "[5 rows x 23 columns]"
      ]
     },
     "execution_count": 5,
     "metadata": {},
     "output_type": "execute_result"
    }
   ],
   "source": [
    "nba_2014.head()"
   ]
  },
  {
   "cell_type": "code",
   "execution_count": 6,
   "id": "a6e6d93b",
   "metadata": {
    "execution": {
     "iopub.execute_input": "2024-09-20T17:21:21.847264Z",
     "iopub.status.busy": "2024-09-20T17:21:21.846718Z",
     "iopub.status.idle": "2024-09-20T17:21:21.860762Z",
     "shell.execute_reply": "2024-09-20T17:21:21.856633Z"
    },
    "papermill": {
     "duration": 0.026015,
     "end_time": "2024-09-20T17:21:21.864144",
     "exception": false,
     "start_time": "2024-09-20T17:21:21.838129",
     "status": "completed"
    },
    "tags": []
   },
   "outputs": [],
   "source": [
    "knicks_pts_10 = nba_2010[nba_2010['fran_id'] == 'Knicks']['pts']\n",
    "warriors_pts_10 = nba_2010[nba_2010['fran_id'] == 'Warriors']['pts']"
   ]
  },
  {
   "cell_type": "code",
   "execution_count": 7,
   "id": "a6200432",
   "metadata": {
    "execution": {
     "iopub.execute_input": "2024-09-20T17:21:21.878454Z",
     "iopub.status.busy": "2024-09-20T17:21:21.878042Z",
     "iopub.status.idle": "2024-09-20T17:21:21.884673Z",
     "shell.execute_reply": "2024-09-20T17:21:21.883408Z"
    },
    "papermill": {
     "duration": 0.016661,
     "end_time": "2024-09-20T17:21:21.887385",
     "exception": false,
     "start_time": "2024-09-20T17:21:21.870724",
     "status": "completed"
    },
    "tags": []
   },
   "outputs": [
    {
     "name": "stdout",
     "output_type": "stream",
     "text": [
      "6.6951219512195195\n"
     ]
    }
   ],
   "source": [
    "diff_means_2010 = warriors_pts_10.mean() - knicks_pts_10.mean()\n",
    "print(diff_means_2010)"
   ]
  },
  {
   "cell_type": "code",
   "execution_count": 8,
   "id": "8dbfae3d",
   "metadata": {
    "execution": {
     "iopub.execute_input": "2024-09-20T17:21:21.901923Z",
     "iopub.status.busy": "2024-09-20T17:21:21.901540Z",
     "iopub.status.idle": "2024-09-20T17:21:22.282041Z",
     "shell.execute_reply": "2024-09-20T17:21:22.280359Z"
    },
    "papermill": {
     "duration": 0.392006,
     "end_time": "2024-09-20T17:21:22.286113",
     "exception": false,
     "start_time": "2024-09-20T17:21:21.894107",
     "status": "completed"
    },
    "tags": []
   },
   "outputs": [
    {
     "data": {
      "image/png": "[encoded data removed]",
      "text/plain": [
       "<Figure size 640x480 with 1 Axes>"
      ]
     },
     "metadata": {},
     "output_type": "display_data"
    },
    {
     "data": {
      "text/plain": [
       "<Figure size 640x480 with 0 Axes>"
      ]
     },
     "metadata": {},
     "output_type": "display_data"
    }
   ],
   "source": [
    "plt.hist(warriors_pts_10, alpha = 0.8, label = 'Warriors')\n",
    "plt.hist(knicks_pts_10, alpha = 0.8, label = 'Knicks')\n",
    "plt.legend()\n",
    "plt.title(\"2020 Season GSW VS NYK\")\n",
    "plt.show()\n",
    "plt.clf()"
   ]
  },
  {
   "cell_type": "code",
   "execution_count": 9,
   "id": "84fc9f95",
   "metadata": {
    "execution": {
     "iopub.execute_input": "2024-09-20T17:21:22.307888Z",
     "iopub.status.busy": "2024-09-20T17:21:22.306803Z",
     "iopub.status.idle": "2024-09-20T17:21:22.318211Z",
     "shell.execute_reply": "2024-09-20T17:21:22.317047Z"
    },
    "papermill": {
     "duration": 0.025097,
     "end_time": "2024-09-20T17:21:22.320760",
     "exception": false,
     "start_time": "2024-09-20T17:21:22.295663",
     "status": "completed"
    },
    "tags": []
   },
   "outputs": [],
   "source": [
    "my_nba_teams = nba_2010[nba_2010['fran_id'].isin(['Warriors', 'Knicks', 'Spurs', 'Timberwolves', 'Lakers'])]"
   ]
  },
  {
   "cell_type": "code",
   "execution_count": 10,
   "id": "d169a9e1",
   "metadata": {
    "execution": {
     "iopub.execute_input": "2024-09-20T17:21:22.335976Z",
     "iopub.status.busy": "2024-09-20T17:21:22.335262Z",
     "iopub.status.idle": "2024-09-20T17:21:22.639637Z",
     "shell.execute_reply": "2024-09-20T17:21:22.638262Z"
    },
    "papermill": {
     "duration": 0.316943,
     "end_time": "2024-09-20T17:21:22.644360",
     "exception": false,
     "start_time": "2024-09-20T17:21:22.327417",
     "status": "completed"
    },
    "tags": []
   },
   "outputs": [
    {
     "data": {
      "image/png": "[encoded data removed]",
      "text/plain": [
       "<Figure size 640x480 with 1 Axes>"
      ]
     },
     "metadata": {},
     "output_type": "display_data"
    }
   ],
   "source": [
    "sns.boxplot(data = my_nba_teams, x = 'fran_id', y = 'pts')\n",
    "plt.show()"
   ]
  },
  {
   "cell_type": "code",
   "execution_count": 11,
   "id": "dfb77e1c",
   "metadata": {
    "execution": {
     "iopub.execute_input": "2024-09-20T17:21:22.668784Z",
     "iopub.status.busy": "2024-09-20T17:21:22.668043Z",
     "iopub.status.idle": "2024-09-20T17:21:22.694898Z",
     "shell.execute_reply": "2024-09-20T17:21:22.693550Z"
    },
    "papermill": {
     "duration": 0.041374,
     "end_time": "2024-09-20T17:21:22.697514",
     "exception": false,
     "start_time": "2024-09-20T17:21:22.656140",
     "status": "completed"
    },
    "tags": []
   },
   "outputs": [
    {
     "name": "stdout",
     "output_type": "stream",
     "text": [
      "game_location    A    H\n",
      "game_result            \n",
      "L              786  526\n",
      "W              526  786\n"
     ]
    }
   ],
   "source": [
    "loc_results_freq = pd.crosstab(nba_2010.game_result, nba_2010.game_location)\n",
    "print(loc_results_freq)"
   ]
  },
  {
   "cell_type": "code",
   "execution_count": 12,
   "id": "09fcafe0",
   "metadata": {
    "execution": {
     "iopub.execute_input": "2024-09-20T17:21:22.713948Z",
     "iopub.status.busy": "2024-09-20T17:21:22.713431Z",
     "iopub.status.idle": "2024-09-20T17:21:22.720278Z",
     "shell.execute_reply": "2024-09-20T17:21:22.719019Z"
    },
    "papermill": {
     "duration": 0.017993,
     "end_time": "2024-09-20T17:21:22.722740",
     "exception": false,
     "start_time": "2024-09-20T17:21:22.704747",
     "status": "completed"
    },
    "tags": []
   },
   "outputs": [
    {
     "name": "stdout",
     "output_type": "stream",
     "text": [
      "The teams win 59.91% of all their games at home\n"
     ]
    }
   ],
   "source": [
    "print(f\"The teams win {(786/(526 + 786))*100:.2f}% of all their games at home\")"
   ]
  },
  {
   "cell_type": "code",
   "execution_count": null,
   "id": "784ddd45",
   "metadata": {
    "papermill": {
     "duration": 0.007176,
     "end_time": "2024-09-20T17:21:22.737160",
     "exception": false,
     "start_time": "2024-09-20T17:21:22.729984",
     "status": "completed"
    },
    "tags": []
   },
   "outputs": [],
   "source": []
  }
 ],
 "metadata": {
  "kaggle": {
   "accelerator": "none",
   "dataSources": [
    {
     "datasetId": 56637,
     "sourceId": 396629,
     "sourceType": "datasetVersion"
    }
   ],
   "dockerImageVersionId": 30761,
   "isGpuEnabled": false,
   "isInternetEnabled": true,
   "language": "python",
   "sourceType": "notebook"
  },
  "kernelspec": {
   "display_name": "Python 3",
   "language": "python",
   "name": "python3"
  },
  "language_info": {
   "codemirror_mode": {
    "name": "ipython",
    "version": 3
   },
   "file_extension": ".py",
   "mimetype": "text/x-python",
   "name": "python",
   "nbconvert_exporter": "python",
   "pygments_lexer": "ipython3",
   "version": "3.10.14"
  },
  "papermill": {
   "default_parameters": {},
   "duration": 8.185339,
   "end_time": "2024-09-20T17:21:23.368601",
   "environment_variables": {},
   "exception": null,
   "input_path": "__notebook__.ipynb",
   "output_path": "__notebook__.ipynb",
   "parameters": {},
   "start_time": "2024-09-20T17:21:15.183262",
   "version": "2.6.0"
  }
 },
 "nbformat": 4,
 "nbformat_minor": 5
}
