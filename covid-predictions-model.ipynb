{
 "cells": [
  {
   "cell_type": "code",
   "execution_count": 1,
   "id": "14b02ce7",
   "metadata": {
    "_cell_guid": "b1076dfc-b9ad-4769-8c92-a6c4dae69d19",
    "_uuid": "8f2839f25d086af736a60e9eeb907d3b93b6e0e5",
    "execution": {
     "iopub.execute_input": "2024-09-16T18:00:12.345510Z",
     "iopub.status.busy": "2024-09-16T18:00:12.345119Z",
     "iopub.status.idle": "2024-09-16T18:00:15.288096Z",
     "shell.execute_reply": "2024-09-16T18:00:15.286483Z"
    },
    "papermill": {
     "duration": 2.955022,
     "end_time": "2024-09-16T18:00:15.290824",
     "exception": false,
     "start_time": "2024-09-16T18:00:12.335802",
     "status": "completed"
    },
    "tags": []
   },
   "outputs": [],
   "source": [
    "# Essentials\n",
    "import numpy as np\n",
    "import pandas as pd\n",
    "\n",
    "# Models\n",
    "from sklearn.linear_model import LogisticRegression\n",
    "from sklearn.ensemble import RandomForestClassifier\n",
    "from sklearn.tree import DecisionTreeClassifier\n",
    "\n",
    "# Visualisation\n",
    "import matplotlib.pyplot as plt\n",
    "import seaborn as sns\n",
    "\n",
    "# Misc\n",
    "from sklearn.pipeline import Pipeline\n",
    "from sklearn.impute import SimpleImputer\n",
    "from sklearn.preprocessing import OrdinalEncoder, StandardScaler\n",
    "from sklearn.model_selection import train_test_split, StratifiedKFold, cross_val_score, GridSearchCV\n",
    "from sklearn.metrics import accuracy_score, classification_report, confusion_matrix, roc_curve, auc \n",
    "import missingno as msno\n",
    "\n",
    "# Warning\n",
    "import warnings\n",
    "warnings.filterwarnings('ignore')"
   ]
  },
  {
   "cell_type": "code",
   "execution_count": 2,
   "id": "1ea1956d",
   "metadata": {
    "execution": {
     "iopub.execute_input": "2024-09-16T18:00:15.307283Z",
     "iopub.status.busy": "2024-09-16T18:00:15.306742Z",
     "iopub.status.idle": "2024-09-16T18:00:15.337603Z",
     "shell.execute_reply": "2024-09-16T18:00:15.336401Z"
    },
    "papermill": {
     "duration": 0.042412,
     "end_time": "2024-09-16T18:00:15.340799",
     "exception": false,
     "start_time": "2024-09-16T18:00:15.298387",
     "status": "completed"
    },
    "tags": []
   },
   "outputs": [],
   "source": [
    "train_data = pd.read_csv('/kaggle/input/cais-x-t1-2021/train.csv')\n",
    "test_data = pd.read_csv('/kaggle/input/cais-x-t1-2021/test.csv')"
   ]
  },
  {
   "cell_type": "code",
   "execution_count": 3,
   "id": "b6bb1d4a",
   "metadata": {
    "execution": {
     "iopub.execute_input": "2024-09-16T18:00:15.356527Z",
     "iopub.status.busy": "2024-09-16T18:00:15.356114Z",
     "iopub.status.idle": "2024-09-16T18:00:15.364070Z",
     "shell.execute_reply": "2024-09-16T18:00:15.362798Z"
    },
    "papermill": {
     "duration": 0.018536,
     "end_time": "2024-09-16T18:00:15.366393",
     "exception": false,
     "start_time": "2024-09-16T18:00:15.347857",
     "status": "completed"
    },
    "tags": []
   },
   "outputs": [
    {
     "data": {
      "text/plain": [
       "(2544, 11)"
      ]
     },
     "execution_count": 3,
     "metadata": {},
     "output_type": "execute_result"
    }
   ],
   "source": [
    "train_data.shape"
   ]
  },
  {
   "cell_type": "code",
   "execution_count": 4,
   "id": "50f93ac5",
   "metadata": {
    "execution": {
     "iopub.execute_input": "2024-09-16T18:00:15.382768Z",
     "iopub.status.busy": "2024-09-16T18:00:15.382326Z",
     "iopub.status.idle": "2024-09-16T18:00:15.410754Z",
     "shell.execute_reply": "2024-09-16T18:00:15.409567Z"
    },
    "papermill": {
     "duration": 0.039172,
     "end_time": "2024-09-16T18:00:15.413073",
     "exception": false,
     "start_time": "2024-09-16T18:00:15.373901",
     "status": "completed"
    },
    "tags": []
   },
   "outputs": [
    {
     "data": {
      "text/html": [
       "<div>\n",
       "<style scoped>\n",
       "    .dataframe tbody tr th:only-of-type {\n",
       "        vertical-align: middle;\n",
       "    }\n",
       "\n",
       "    .dataframe tbody tr th {\n",
       "        vertical-align: top;\n",
       "    }\n",
       "\n",
       "    .dataframe thead th {\n",
       "        text-align: right;\n",
       "    }\n",
       "</style>\n",
       "<table border=\"1\" class=\"dataframe\">\n",
       "  <thead>\n",
       "    <tr style=\"text-align: right;\">\n",
       "      <th></th>\n",
       "      <th>Id</th>\n",
       "      <th># Confirmed_Cases</th>\n",
       "      <th># Deaths</th>\n",
       "      <th># Recovered</th>\n",
       "      <th># Tested</th>\n",
       "      <th>Date</th>\n",
       "      <th>Lat</th>\n",
       "      <th>Long</th>\n",
       "      <th>Population</th>\n",
       "      <th>Province</th>\n",
       "      <th>Testing_Info</th>\n",
       "    </tr>\n",
       "  </thead>\n",
       "  <tbody>\n",
       "    <tr>\n",
       "      <th>0</th>\n",
       "      <td>0</td>\n",
       "      <td>0</td>\n",
       "      <td>NaN</td>\n",
       "      <td>0.0</td>\n",
       "      <td>NaN</td>\n",
       "      <td>2020-02-12</td>\n",
       "      <td>53.9333</td>\n",
       "      <td>-116.5765</td>\n",
       "      <td>4428247.0</td>\n",
       "      <td>Alberta</td>\n",
       "      <td>NaN</td>\n",
       "    </tr>\n",
       "    <tr>\n",
       "      <th>1</th>\n",
       "      <td>1</td>\n",
       "      <td>0</td>\n",
       "      <td>NaN</td>\n",
       "      <td>0.0</td>\n",
       "      <td>NaN</td>\n",
       "      <td>2020-02-13</td>\n",
       "      <td>53.9333</td>\n",
       "      <td>-116.5765</td>\n",
       "      <td>4428247.0</td>\n",
       "      <td>Alberta</td>\n",
       "      <td>NaN</td>\n",
       "    </tr>\n",
       "    <tr>\n",
       "      <th>2</th>\n",
       "      <td>2</td>\n",
       "      <td>0</td>\n",
       "      <td>NaN</td>\n",
       "      <td>0.0</td>\n",
       "      <td>NaN</td>\n",
       "      <td>2020-02-14</td>\n",
       "      <td>53.9333</td>\n",
       "      <td>-116.5765</td>\n",
       "      <td>4428247.0</td>\n",
       "      <td>Alberta</td>\n",
       "      <td>NaN</td>\n",
       "    </tr>\n",
       "    <tr>\n",
       "      <th>3</th>\n",
       "      <td>3</td>\n",
       "      <td>0</td>\n",
       "      <td>NaN</td>\n",
       "      <td>0.0</td>\n",
       "      <td>NaN</td>\n",
       "      <td>2020-02-15</td>\n",
       "      <td>53.9333</td>\n",
       "      <td>-116.5765</td>\n",
       "      <td>4428247.0</td>\n",
       "      <td>Alberta</td>\n",
       "      <td>NaN</td>\n",
       "    </tr>\n",
       "    <tr>\n",
       "      <th>4</th>\n",
       "      <td>4</td>\n",
       "      <td>0</td>\n",
       "      <td>NaN</td>\n",
       "      <td>0.0</td>\n",
       "      <td>NaN</td>\n",
       "      <td>2020-02-16</td>\n",
       "      <td>53.9333</td>\n",
       "      <td>-116.5765</td>\n",
       "      <td>4428247.0</td>\n",
       "      <td>Alberta</td>\n",
       "      <td>NaN</td>\n",
       "    </tr>\n",
       "  </tbody>\n",
       "</table>\n",
       "</div>"
      ],
      "text/plain": [
       "   Id  # Confirmed_Cases  # Deaths  # Recovered  # Tested        Date  \\\n",
       "0   0                  0       NaN          0.0       NaN  2020-02-12   \n",
       "1   1                  0       NaN          0.0       NaN  2020-02-13   \n",
       "2   2                  0       NaN          0.0       NaN  2020-02-14   \n",
       "3   3                  0       NaN          0.0       NaN  2020-02-15   \n",
       "4   4                  0       NaN          0.0       NaN  2020-02-16   \n",
       "\n",
       "       Lat      Long  Population Province Testing_Info  \n",
       "0  53.9333 -116.5765   4428247.0  Alberta          NaN  \n",
       "1  53.9333 -116.5765   4428247.0  Alberta          NaN  \n",
       "2  53.9333 -116.5765   4428247.0  Alberta          NaN  \n",
       "3  53.9333 -116.5765   4428247.0  Alberta          NaN  \n",
       "4  53.9333 -116.5765   4428247.0  Alberta          NaN  "
      ]
     },
     "execution_count": 4,
     "metadata": {},
     "output_type": "execute_result"
    }
   ],
   "source": [
    "train_data.head()"
   ]
  },
  {
   "cell_type": "code",
   "execution_count": 5,
   "id": "35fe4ea5",
   "metadata": {
    "execution": {
     "iopub.execute_input": "2024-09-16T18:00:15.429692Z",
     "iopub.status.busy": "2024-09-16T18:00:15.429207Z",
     "iopub.status.idle": "2024-09-16T18:00:15.468840Z",
     "shell.execute_reply": "2024-09-16T18:00:15.467671Z"
    },
    "papermill": {
     "duration": 0.051313,
     "end_time": "2024-09-16T18:00:15.471666",
     "exception": false,
     "start_time": "2024-09-16T18:00:15.420353",
     "status": "completed"
    },
    "tags": []
   },
   "outputs": [
    {
     "data": {
      "text/html": [
       "<div>\n",
       "<style scoped>\n",
       "    .dataframe tbody tr th:only-of-type {\n",
       "        vertical-align: middle;\n",
       "    }\n",
       "\n",
       "    .dataframe tbody tr th {\n",
       "        vertical-align: top;\n",
       "    }\n",
       "\n",
       "    .dataframe thead th {\n",
       "        text-align: right;\n",
       "    }\n",
       "</style>\n",
       "<table border=\"1\" class=\"dataframe\">\n",
       "  <thead>\n",
       "    <tr style=\"text-align: right;\">\n",
       "      <th></th>\n",
       "      <th>Id</th>\n",
       "      <th># Confirmed_Cases</th>\n",
       "      <th># Deaths</th>\n",
       "      <th># Recovered</th>\n",
       "      <th># Tested</th>\n",
       "      <th>Lat</th>\n",
       "      <th>Long</th>\n",
       "      <th>Population</th>\n",
       "    </tr>\n",
       "  </thead>\n",
       "  <tbody>\n",
       "    <tr>\n",
       "      <th>count</th>\n",
       "      <td>2544.000000</td>\n",
       "      <td>2544.000000</td>\n",
       "      <td>2037.000000</td>\n",
       "      <td>2544.000000</td>\n",
       "      <td>1946.000000</td>\n",
       "      <td>2362.000000</td>\n",
       "      <td>2362.000000</td>\n",
       "      <td>2.362000e+03</td>\n",
       "    </tr>\n",
       "    <tr>\n",
       "      <th>mean</th>\n",
       "      <td>1271.500000</td>\n",
       "      <td>48.044418</td>\n",
       "      <td>4.432499</td>\n",
       "      <td>41.961478</td>\n",
       "      <td>2474.023638</td>\n",
       "      <td>54.548859</td>\n",
       "      <td>-92.804513</td>\n",
       "      <td>2.923965e+06</td>\n",
       "    </tr>\n",
       "    <tr>\n",
       "      <th>std</th>\n",
       "      <td>734.533866</td>\n",
       "      <td>147.650063</td>\n",
       "      <td>16.569790</td>\n",
       "      <td>479.256527</td>\n",
       "      <td>5494.004372</td>\n",
       "      <td>7.333226</td>\n",
       "      <td>26.188782</td>\n",
       "      <td>4.215885e+06</td>\n",
       "    </tr>\n",
       "    <tr>\n",
       "      <th>min</th>\n",
       "      <td>0.000000</td>\n",
       "      <td>0.000000</td>\n",
       "      <td>0.000000</td>\n",
       "      <td>0.000000</td>\n",
       "      <td>-31531.000000</td>\n",
       "      <td>44.682000</td>\n",
       "      <td>-135.000000</td>\n",
       "      <td>3.948600e+04</td>\n",
       "    </tr>\n",
       "    <tr>\n",
       "      <th>25%</th>\n",
       "      <td>635.750000</td>\n",
       "      <td>0.000000</td>\n",
       "      <td>0.000000</td>\n",
       "      <td>0.000000</td>\n",
       "      <td>17.000000</td>\n",
       "      <td>51.253800</td>\n",
       "      <td>-116.576500</td>\n",
       "      <td>1.587170e+05</td>\n",
       "    </tr>\n",
       "    <tr>\n",
       "      <th>50%</th>\n",
       "      <td>1271.500000</td>\n",
       "      <td>0.000000</td>\n",
       "      <td>0.000000</td>\n",
       "      <td>0.000000</td>\n",
       "      <td>319.000000</td>\n",
       "      <td>53.135500</td>\n",
       "      <td>-86.798981</td>\n",
       "      <td>9.782740e+05</td>\n",
       "    </tr>\n",
       "    <tr>\n",
       "      <th>75%</th>\n",
       "      <td>1907.250000</td>\n",
       "      <td>12.000000</td>\n",
       "      <td>0.000000</td>\n",
       "      <td>6.000000</td>\n",
       "      <td>1853.000000</td>\n",
       "      <td>53.933300</td>\n",
       "      <td>-66.461900</td>\n",
       "      <td>4.428247e+06</td>\n",
       "    </tr>\n",
       "    <tr>\n",
       "      <th>max</th>\n",
       "      <td>2543.000000</td>\n",
       "      <td>2203.000000</td>\n",
       "      <td>202.000000</td>\n",
       "      <td>23686.000000</td>\n",
       "      <td>50378.000000</td>\n",
       "      <td>70.453262</td>\n",
       "      <td>-57.660400</td>\n",
       "      <td>1.474504e+07</td>\n",
       "    </tr>\n",
       "  </tbody>\n",
       "</table>\n",
       "</div>"
      ],
      "text/plain": [
       "                Id  # Confirmed_Cases     # Deaths   # Recovered  \\\n",
       "count  2544.000000        2544.000000  2037.000000   2544.000000   \n",
       "mean   1271.500000          48.044418     4.432499     41.961478   \n",
       "std     734.533866         147.650063    16.569790    479.256527   \n",
       "min       0.000000           0.000000     0.000000      0.000000   \n",
       "25%     635.750000           0.000000     0.000000      0.000000   \n",
       "50%    1271.500000           0.000000     0.000000      0.000000   \n",
       "75%    1907.250000          12.000000     0.000000      6.000000   \n",
       "max    2543.000000        2203.000000   202.000000  23686.000000   \n",
       "\n",
       "           # Tested          Lat         Long    Population  \n",
       "count   1946.000000  2362.000000  2362.000000  2.362000e+03  \n",
       "mean    2474.023638    54.548859   -92.804513  2.923965e+06  \n",
       "std     5494.004372     7.333226    26.188782  4.215885e+06  \n",
       "min   -31531.000000    44.682000  -135.000000  3.948600e+04  \n",
       "25%       17.000000    51.253800  -116.576500  1.587170e+05  \n",
       "50%      319.000000    53.135500   -86.798981  9.782740e+05  \n",
       "75%     1853.000000    53.933300   -66.461900  4.428247e+06  \n",
       "max    50378.000000    70.453262   -57.660400  1.474504e+07  "
      ]
     },
     "execution_count": 5,
     "metadata": {},
     "output_type": "execute_result"
    }
   ],
   "source": [
    "train_data.describe()"
   ]
  },
  {
   "cell_type": "code",
   "execution_count": 6,
   "id": "ee7632be",
   "metadata": {
    "execution": {
     "iopub.execute_input": "2024-09-16T18:00:15.489729Z",
     "iopub.status.busy": "2024-09-16T18:00:15.488743Z",
     "iopub.status.idle": "2024-09-16T18:00:15.498649Z",
     "shell.execute_reply": "2024-09-16T18:00:15.497460Z"
    },
    "papermill": {
     "duration": 0.021686,
     "end_time": "2024-09-16T18:00:15.501003",
     "exception": false,
     "start_time": "2024-09-16T18:00:15.479317",
     "status": "completed"
    },
    "tags": []
   },
   "outputs": [
    {
     "data": {
      "text/plain": [
       "Id                      0\n",
       "# Confirmed_Cases       0\n",
       "# Deaths              507\n",
       "# Recovered             0\n",
       "# Tested              598\n",
       "Date                    0\n",
       "Lat                   182\n",
       "Long                  182\n",
       "Population            182\n",
       "Province                0\n",
       "Testing_Info         2536\n",
       "dtype: int64"
      ]
     },
     "execution_count": 6,
     "metadata": {},
     "output_type": "execute_result"
    }
   ],
   "source": [
    "train_data.isnull().sum()"
   ]
  },
  {
   "cell_type": "code",
   "execution_count": 7,
   "id": "98b75411",
   "metadata": {
    "execution": {
     "iopub.execute_input": "2024-09-16T18:00:15.517864Z",
     "iopub.status.busy": "2024-09-16T18:00:15.517406Z",
     "iopub.status.idle": "2024-09-16T18:00:15.526012Z",
     "shell.execute_reply": "2024-09-16T18:00:15.524965Z"
    },
    "papermill": {
     "duration": 0.019806,
     "end_time": "2024-09-16T18:00:15.528332",
     "exception": false,
     "start_time": "2024-09-16T18:00:15.508526",
     "status": "completed"
    },
    "tags": []
   },
   "outputs": [
    {
     "data": {
      "text/plain": [
       "Id                     int64\n",
       "# Confirmed_Cases      int64\n",
       "# Deaths             float64\n",
       "# Recovered          float64\n",
       "# Tested             float64\n",
       "Date                  object\n",
       "Lat                  float64\n",
       "Long                 float64\n",
       "Population           float64\n",
       "Province              object\n",
       "Testing_Info          object\n",
       "dtype: object"
      ]
     },
     "execution_count": 7,
     "metadata": {},
     "output_type": "execute_result"
    }
   ],
   "source": [
    "train_data.dtypes"
   ]
  },
  {
   "cell_type": "markdown",
   "id": "075e0463",
   "metadata": {
    "papermill": {
     "duration": 0.007393,
     "end_time": "2024-09-16T18:00:15.543504",
     "exception": false,
     "start_time": "2024-09-16T18:00:15.536111",
     "status": "completed"
    },
    "tags": []
   },
   "source": [
    "The Date data type is of object and will be read as a string taking away from numerical order so must turn regular object to data object"
   ]
  },
  {
   "cell_type": "code",
   "execution_count": 8,
   "id": "2a27d06f",
   "metadata": {
    "execution": {
     "iopub.execute_input": "2024-09-16T18:00:15.561277Z",
     "iopub.status.busy": "2024-09-16T18:00:15.560802Z",
     "iopub.status.idle": "2024-09-16T18:00:15.578096Z",
     "shell.execute_reply": "2024-09-16T18:00:15.576916Z"
    },
    "papermill": {
     "duration": 0.029385,
     "end_time": "2024-09-16T18:00:15.580911",
     "exception": false,
     "start_time": "2024-09-16T18:00:15.551526",
     "status": "completed"
    },
    "tags": []
   },
   "outputs": [],
   "source": [
    "# change Date format\n",
    "train_data['Date'] = pd.to_datetime(train_data['Date'], format = '%Y-%m-%d')\n",
    "test_data['Date'] = pd.to_datetime(train_data['Date'], format = '%Y-%m-%d')"
   ]
  },
  {
   "cell_type": "code",
   "execution_count": 9,
   "id": "070d22f9",
   "metadata": {
    "execution": {
     "iopub.execute_input": "2024-09-16T18:00:15.598630Z",
     "iopub.status.busy": "2024-09-16T18:00:15.597782Z",
     "iopub.status.idle": "2024-09-16T18:00:15.605995Z",
     "shell.execute_reply": "2024-09-16T18:00:15.604805Z"
    },
    "papermill": {
     "duration": 0.019421,
     "end_time": "2024-09-16T18:00:15.608221",
     "exception": false,
     "start_time": "2024-09-16T18:00:15.588800",
     "status": "completed"
    },
    "tags": []
   },
   "outputs": [
    {
     "data": {
      "text/plain": [
       "Id                            int64\n",
       "# Confirmed_Cases             int64\n",
       "# Deaths                    float64\n",
       "# Recovered                 float64\n",
       "# Tested                    float64\n",
       "Date                 datetime64[ns]\n",
       "Lat                         float64\n",
       "Long                        float64\n",
       "Population                  float64\n",
       "Province                     object\n",
       "Testing_Info                 object\n",
       "dtype: object"
      ]
     },
     "execution_count": 9,
     "metadata": {},
     "output_type": "execute_result"
    }
   ],
   "source": [
    "train_data.dtypes"
   ]
  },
  {
   "cell_type": "markdown",
   "id": "c6837700",
   "metadata": {
    "papermill": {
     "duration": 0.007799,
     "end_time": "2024-09-16T18:00:15.623897",
     "exception": false,
     "start_time": "2024-09-16T18:00:15.616098",
     "status": "completed"
    },
    "tags": []
   },
   "source": [
    "Date is now transformed from datetime"
   ]
  },
  {
   "cell_type": "code",
   "execution_count": 10,
   "id": "edb03582",
   "metadata": {
    "execution": {
     "iopub.execute_input": "2024-09-16T18:00:15.641549Z",
     "iopub.status.busy": "2024-09-16T18:00:15.641141Z",
     "iopub.status.idle": "2024-09-16T18:00:15.654539Z",
     "shell.execute_reply": "2024-09-16T18:00:15.653381Z"
    },
    "papermill": {
     "duration": 0.024961,
     "end_time": "2024-09-16T18:00:15.656776",
     "exception": false,
     "start_time": "2024-09-16T18:00:15.631815",
     "status": "completed"
    },
    "tags": []
   },
   "outputs": [
    {
     "data": {
      "text/plain": [
       "Province\n",
       "Alberta          182\n",
       "BC               182\n",
       "Manitoba         182\n",
       "New Brunswick    182\n",
       "NL               182\n",
       "Nunavut          182\n",
       "NWT              182\n",
       "Ontario          182\n",
       "PEI              182\n",
       "Quebec           182\n",
       "Repatriated      182\n",
       "Yukon            182\n",
       "Nova Scotia      180\n",
       "Saskatchewan     180\n",
       "Name: count, dtype: int64"
      ]
     },
     "execution_count": 10,
     "metadata": {},
     "output_type": "execute_result"
    }
   ],
   "source": [
    "train_data['Province'].value_counts()"
   ]
  },
  {
   "cell_type": "markdown",
   "id": "ba7375af",
   "metadata": {
    "papermill": {
     "duration": 0.007762,
     "end_time": "2024-09-16T18:00:15.673242",
     "exception": false,
     "start_time": "2024-09-16T18:00:15.665480",
     "status": "completed"
    },
    "tags": []
   },
   "source": [
    "# Preprocessing"
   ]
  },
  {
   "cell_type": "markdown",
   "id": "7efbc030",
   "metadata": {
    "papermill": {
     "duration": 0.007736,
     "end_time": "2024-09-16T18:00:15.688859",
     "exception": false,
     "start_time": "2024-09-16T18:00:15.681123",
     "status": "completed"
    },
    "tags": []
   },
   "source": [
    "- Standardization\n",
    "- One Hot Encodng\n",
    "- identify outliers(categorical data to numerical)\n",
    "-->\n",
    "- What must be learned on outside of this attempt"
   ]
  },
  {
   "cell_type": "code",
   "execution_count": 11,
   "id": "43c75e76",
   "metadata": {
    "execution": {
     "iopub.execute_input": "2024-09-16T18:00:15.706768Z",
     "iopub.status.busy": "2024-09-16T18:00:15.706336Z",
     "iopub.status.idle": "2024-09-16T18:00:15.719095Z",
     "shell.execute_reply": "2024-09-16T18:00:15.717940Z"
    },
    "papermill": {
     "duration": 0.024327,
     "end_time": "2024-09-16T18:00:15.721564",
     "exception": false,
     "start_time": "2024-09-16T18:00:15.697237",
     "status": "completed"
    },
    "tags": []
   },
   "outputs": [
    {
     "data": {
      "text/plain": [
       "Id                   0\n",
       "# Confirmed_Cases    0\n",
       "# Deaths             0\n",
       "# Recovered          0\n",
       "# Tested             0\n",
       "Date                 0\n",
       "Lat                  0\n",
       "Long                 0\n",
       "Population           0\n",
       "Province             0\n",
       "Testing_Info         0\n",
       "dtype: int64"
      ]
     },
     "execution_count": 11,
     "metadata": {},
     "output_type": "execute_result"
    }
   ],
   "source": [
    "# work on null values\n",
    "train_data = train_data.fillna(0)\n",
    "test_data = test_data.fillna(0)\n",
    "train_data.isnull().sum()"
   ]
  },
  {
   "cell_type": "code",
   "execution_count": 12,
   "id": "6b0f9d51",
   "metadata": {
    "execution": {
     "iopub.execute_input": "2024-09-16T18:00:15.739716Z",
     "iopub.status.busy": "2024-09-16T18:00:15.739287Z",
     "iopub.status.idle": "2024-09-16T18:00:15.756909Z",
     "shell.execute_reply": "2024-09-16T18:00:15.755762Z"
    },
    "papermill": {
     "duration": 0.029526,
     "end_time": "2024-09-16T18:00:15.759335",
     "exception": false,
     "start_time": "2024-09-16T18:00:15.729809",
     "status": "completed"
    },
    "tags": []
   },
   "outputs": [
    {
     "data": {
      "text/plain": [
       "0        43\n",
       "1        44\n",
       "2        45\n",
       "3        46\n",
       "4        47\n",
       "       ... \n",
       "2539    220\n",
       "2540    221\n",
       "2541    222\n",
       "2542    223\n",
       "2543    224\n",
       "Name: Day, Length: 2544, dtype: int64"
      ]
     },
     "execution_count": 12,
     "metadata": {},
     "output_type": "execute_result"
    }
   ],
   "source": [
    "# Use day of the year for setting up Date column\n",
    "train_data['Day'] = train_data['Date'].apply(lambda x: x.dayofyear)\n",
    "test_data['Day'] = test_data['Date'].apply(lambda x: x.dayofyear)\n",
    "train_data['Day']"
   ]
  },
  {
   "cell_type": "markdown",
   "id": "7bbf5fa2",
   "metadata": {
    "papermill": {
     "duration": 0.008482,
     "end_time": "2024-09-16T18:00:15.776757",
     "exception": false,
     "start_time": "2024-09-16T18:00:15.768275",
     "status": "completed"
    },
    "tags": []
   },
   "source": [
    "Split data"
   ]
  },
  {
   "cell_type": "code",
   "execution_count": 13,
   "id": "dd0a4817",
   "metadata": {
    "execution": {
     "iopub.execute_input": "2024-09-16T18:00:15.796151Z",
     "iopub.status.busy": "2024-09-16T18:00:15.795728Z",
     "iopub.status.idle": "2024-09-16T18:00:15.802162Z",
     "shell.execute_reply": "2024-09-16T18:00:15.800938Z"
    },
    "papermill": {
     "duration": 0.019449,
     "end_time": "2024-09-16T18:00:15.804489",
     "exception": false,
     "start_time": "2024-09-16T18:00:15.785040",
     "status": "completed"
    },
    "tags": []
   },
   "outputs": [
    {
     "name": "stdout",
     "output_type": "stream",
     "text": [
      "2020-03-19 00:00:00\n"
     ]
    }
   ],
   "source": [
    "import datetime\n",
    "split_date = datetime.datetime(year = 2020, month = 3, day = 19)\n",
    "print(split_date)"
   ]
  },
  {
   "cell_type": "code",
   "execution_count": 14,
   "id": "8b0cf0c1",
   "metadata": {
    "execution": {
     "iopub.execute_input": "2024-09-16T18:00:15.823392Z",
     "iopub.status.busy": "2024-09-16T18:00:15.822964Z",
     "iopub.status.idle": "2024-09-16T18:00:15.834534Z",
     "shell.execute_reply": "2024-09-16T18:00:15.833321Z"
    },
    "papermill": {
     "duration": 0.023719,
     "end_time": "2024-09-16T18:00:15.837106",
     "exception": false,
     "start_time": "2024-09-16T18:00:15.813387",
     "status": "completed"
    },
    "tags": []
   },
   "outputs": [],
   "source": [
    "split = train_data['Date'] < split_date\n",
    "validation_set = train_data[split]\n",
    "train_set = train_data[~split]"
   ]
  },
  {
   "cell_type": "code",
   "execution_count": 15,
   "id": "719d3e64",
   "metadata": {
    "execution": {
     "iopub.execute_input": "2024-09-16T18:00:15.855673Z",
     "iopub.status.busy": "2024-09-16T18:00:15.855244Z",
     "iopub.status.idle": "2024-09-16T18:00:15.874269Z",
     "shell.execute_reply": "2024-09-16T18:00:15.872967Z"
    },
    "papermill": {
     "duration": 0.031445,
     "end_time": "2024-09-16T18:00:15.876924",
     "exception": false,
     "start_time": "2024-09-16T18:00:15.845479",
     "status": "completed"
    },
    "tags": []
   },
   "outputs": [
    {
     "data": {
      "text/html": [
       "<div>\n",
       "<style scoped>\n",
       "    .dataframe tbody tr th:only-of-type {\n",
       "        vertical-align: middle;\n",
       "    }\n",
       "\n",
       "    .dataframe tbody tr th {\n",
       "        vertical-align: top;\n",
       "    }\n",
       "\n",
       "    .dataframe thead th {\n",
       "        text-align: right;\n",
       "    }\n",
       "</style>\n",
       "<table border=\"1\" class=\"dataframe\">\n",
       "  <thead>\n",
       "    <tr style=\"text-align: right;\">\n",
       "      <th></th>\n",
       "      <th>Id</th>\n",
       "      <th># Confirmed_Cases</th>\n",
       "      <th># Deaths</th>\n",
       "      <th># Recovered</th>\n",
       "      <th># Tested</th>\n",
       "      <th>Date</th>\n",
       "      <th>Lat</th>\n",
       "      <th>Long</th>\n",
       "      <th>Population</th>\n",
       "      <th>Province</th>\n",
       "      <th>Testing_Info</th>\n",
       "      <th>Day</th>\n",
       "    </tr>\n",
       "  </thead>\n",
       "  <tbody>\n",
       "    <tr>\n",
       "      <th>2393</th>\n",
       "      <td>2393</td>\n",
       "      <td>0</td>\n",
       "      <td>0.0</td>\n",
       "      <td>0.0</td>\n",
       "      <td>0.0</td>\n",
       "      <td>2020-03-14</td>\n",
       "      <td>64.2823</td>\n",
       "      <td>-135.0</td>\n",
       "      <td>41293.0</td>\n",
       "      <td>Yukon</td>\n",
       "      <td>0</td>\n",
       "      <td>74</td>\n",
       "    </tr>\n",
       "    <tr>\n",
       "      <th>2394</th>\n",
       "      <td>2394</td>\n",
       "      <td>0</td>\n",
       "      <td>0.0</td>\n",
       "      <td>0.0</td>\n",
       "      <td>0.0</td>\n",
       "      <td>2020-03-15</td>\n",
       "      <td>64.2823</td>\n",
       "      <td>-135.0</td>\n",
       "      <td>41293.0</td>\n",
       "      <td>Yukon</td>\n",
       "      <td>0</td>\n",
       "      <td>75</td>\n",
       "    </tr>\n",
       "    <tr>\n",
       "      <th>2395</th>\n",
       "      <td>2395</td>\n",
       "      <td>0</td>\n",
       "      <td>0.0</td>\n",
       "      <td>0.0</td>\n",
       "      <td>0.0</td>\n",
       "      <td>2020-03-16</td>\n",
       "      <td>64.2823</td>\n",
       "      <td>-135.0</td>\n",
       "      <td>41293.0</td>\n",
       "      <td>Yukon</td>\n",
       "      <td>0</td>\n",
       "      <td>76</td>\n",
       "    </tr>\n",
       "    <tr>\n",
       "      <th>2396</th>\n",
       "      <td>2396</td>\n",
       "      <td>0</td>\n",
       "      <td>0.0</td>\n",
       "      <td>0.0</td>\n",
       "      <td>0.0</td>\n",
       "      <td>2020-03-17</td>\n",
       "      <td>64.2823</td>\n",
       "      <td>-135.0</td>\n",
       "      <td>41293.0</td>\n",
       "      <td>Yukon</td>\n",
       "      <td>0</td>\n",
       "      <td>77</td>\n",
       "    </tr>\n",
       "    <tr>\n",
       "      <th>2397</th>\n",
       "      <td>2397</td>\n",
       "      <td>0</td>\n",
       "      <td>0.0</td>\n",
       "      <td>0.0</td>\n",
       "      <td>101.0</td>\n",
       "      <td>2020-03-18</td>\n",
       "      <td>64.2823</td>\n",
       "      <td>-135.0</td>\n",
       "      <td>41293.0</td>\n",
       "      <td>Yukon</td>\n",
       "      <td>0</td>\n",
       "      <td>78</td>\n",
       "    </tr>\n",
       "  </tbody>\n",
       "</table>\n",
       "</div>"
      ],
      "text/plain": [
       "        Id  # Confirmed_Cases  # Deaths  # Recovered  # Tested       Date  \\\n",
       "2393  2393                  0       0.0          0.0       0.0 2020-03-14   \n",
       "2394  2394                  0       0.0          0.0       0.0 2020-03-15   \n",
       "2395  2395                  0       0.0          0.0       0.0 2020-03-16   \n",
       "2396  2396                  0       0.0          0.0       0.0 2020-03-17   \n",
       "2397  2397                  0       0.0          0.0     101.0 2020-03-18   \n",
       "\n",
       "          Lat   Long  Population Province Testing_Info  Day  \n",
       "2393  64.2823 -135.0     41293.0    Yukon            0   74  \n",
       "2394  64.2823 -135.0     41293.0    Yukon            0   75  \n",
       "2395  64.2823 -135.0     41293.0    Yukon            0   76  \n",
       "2396  64.2823 -135.0     41293.0    Yukon            0   77  \n",
       "2397  64.2823 -135.0     41293.0    Yukon            0   78  "
      ]
     },
     "execution_count": 15,
     "metadata": {},
     "output_type": "execute_result"
    }
   ],
   "source": [
    "validation_set.tail()"
   ]
  },
  {
   "cell_type": "code",
   "execution_count": 16,
   "id": "cf6e4874",
   "metadata": {
    "execution": {
     "iopub.execute_input": "2024-09-16T18:00:15.897019Z",
     "iopub.status.busy": "2024-09-16T18:00:15.896573Z",
     "iopub.status.idle": "2024-09-16T18:00:15.915203Z",
     "shell.execute_reply": "2024-09-16T18:00:15.913981Z"
    },
    "papermill": {
     "duration": 0.031305,
     "end_time": "2024-09-16T18:00:15.917531",
     "exception": false,
     "start_time": "2024-09-16T18:00:15.886226",
     "status": "completed"
    },
    "tags": []
   },
   "outputs": [
    {
     "data": {
      "text/html": [
       "<div>\n",
       "<style scoped>\n",
       "    .dataframe tbody tr th:only-of-type {\n",
       "        vertical-align: middle;\n",
       "    }\n",
       "\n",
       "    .dataframe tbody tr th {\n",
       "        vertical-align: top;\n",
       "    }\n",
       "\n",
       "    .dataframe thead th {\n",
       "        text-align: right;\n",
       "    }\n",
       "</style>\n",
       "<table border=\"1\" class=\"dataframe\">\n",
       "  <thead>\n",
       "    <tr style=\"text-align: right;\">\n",
       "      <th></th>\n",
       "      <th>Id</th>\n",
       "      <th># Confirmed_Cases</th>\n",
       "      <th># Deaths</th>\n",
       "      <th># Recovered</th>\n",
       "      <th># Tested</th>\n",
       "      <th>Date</th>\n",
       "      <th>Lat</th>\n",
       "      <th>Long</th>\n",
       "      <th>Population</th>\n",
       "      <th>Province</th>\n",
       "      <th>Testing_Info</th>\n",
       "      <th>Day</th>\n",
       "    </tr>\n",
       "  </thead>\n",
       "  <tbody>\n",
       "    <tr>\n",
       "      <th>2539</th>\n",
       "      <td>2539</td>\n",
       "      <td>1</td>\n",
       "      <td>0.0</td>\n",
       "      <td>0.0</td>\n",
       "      <td>44.0</td>\n",
       "      <td>2020-08-07</td>\n",
       "      <td>64.2823</td>\n",
       "      <td>-135.0</td>\n",
       "      <td>41293.0</td>\n",
       "      <td>Yukon</td>\n",
       "      <td>0</td>\n",
       "      <td>220</td>\n",
       "    </tr>\n",
       "    <tr>\n",
       "      <th>2540</th>\n",
       "      <td>2540</td>\n",
       "      <td>0</td>\n",
       "      <td>0.0</td>\n",
       "      <td>0.0</td>\n",
       "      <td>0.0</td>\n",
       "      <td>2020-08-08</td>\n",
       "      <td>64.2823</td>\n",
       "      <td>-135.0</td>\n",
       "      <td>41293.0</td>\n",
       "      <td>Yukon</td>\n",
       "      <td>0</td>\n",
       "      <td>221</td>\n",
       "    </tr>\n",
       "    <tr>\n",
       "      <th>2541</th>\n",
       "      <td>2541</td>\n",
       "      <td>0</td>\n",
       "      <td>0.0</td>\n",
       "      <td>0.0</td>\n",
       "      <td>0.0</td>\n",
       "      <td>2020-08-09</td>\n",
       "      <td>64.2823</td>\n",
       "      <td>-135.0</td>\n",
       "      <td>41293.0</td>\n",
       "      <td>Yukon</td>\n",
       "      <td>0</td>\n",
       "      <td>222</td>\n",
       "    </tr>\n",
       "    <tr>\n",
       "      <th>2542</th>\n",
       "      <td>2542</td>\n",
       "      <td>0</td>\n",
       "      <td>0.0</td>\n",
       "      <td>0.0</td>\n",
       "      <td>125.0</td>\n",
       "      <td>2020-08-10</td>\n",
       "      <td>64.2823</td>\n",
       "      <td>-135.0</td>\n",
       "      <td>41293.0</td>\n",
       "      <td>Yukon</td>\n",
       "      <td>0</td>\n",
       "      <td>223</td>\n",
       "    </tr>\n",
       "    <tr>\n",
       "      <th>2543</th>\n",
       "      <td>2543</td>\n",
       "      <td>0</td>\n",
       "      <td>0.0</td>\n",
       "      <td>0.0</td>\n",
       "      <td>56.0</td>\n",
       "      <td>2020-08-11</td>\n",
       "      <td>64.2823</td>\n",
       "      <td>-135.0</td>\n",
       "      <td>41293.0</td>\n",
       "      <td>Yukon</td>\n",
       "      <td>0</td>\n",
       "      <td>224</td>\n",
       "    </tr>\n",
       "  </tbody>\n",
       "</table>\n",
       "</div>"
      ],
      "text/plain": [
       "        Id  # Confirmed_Cases  # Deaths  # Recovered  # Tested       Date  \\\n",
       "2539  2539                  1       0.0          0.0      44.0 2020-08-07   \n",
       "2540  2540                  0       0.0          0.0       0.0 2020-08-08   \n",
       "2541  2541                  0       0.0          0.0       0.0 2020-08-09   \n",
       "2542  2542                  0       0.0          0.0     125.0 2020-08-10   \n",
       "2543  2543                  0       0.0          0.0      56.0 2020-08-11   \n",
       "\n",
       "          Lat   Long  Population Province Testing_Info  Day  \n",
       "2539  64.2823 -135.0     41293.0    Yukon            0  220  \n",
       "2540  64.2823 -135.0     41293.0    Yukon            0  221  \n",
       "2541  64.2823 -135.0     41293.0    Yukon            0  222  \n",
       "2542  64.2823 -135.0     41293.0    Yukon            0  223  \n",
       "2543  64.2823 -135.0     41293.0    Yukon            0  224  "
      ]
     },
     "execution_count": 16,
     "metadata": {},
     "output_type": "execute_result"
    }
   ],
   "source": [
    "train_set.tail()"
   ]
  },
  {
   "cell_type": "markdown",
   "id": "ed3371b2",
   "metadata": {
    "papermill": {
     "duration": 0.008984,
     "end_time": "2024-09-16T18:00:15.936095",
     "exception": false,
     "start_time": "2024-09-16T18:00:15.927111",
     "status": "completed"
    },
    "tags": []
   },
   "source": [
    "# Using a Decision Tree Regressor Model"
   ]
  },
  {
   "cell_type": "code",
   "execution_count": 17,
   "id": "49bec4c4",
   "metadata": {
    "execution": {
     "iopub.execute_input": "2024-09-16T18:00:15.955440Z",
     "iopub.status.busy": "2024-09-16T18:00:15.955006Z",
     "iopub.status.idle": "2024-09-16T18:00:15.960411Z",
     "shell.execute_reply": "2024-09-16T18:00:15.959279Z"
    },
    "papermill": {
     "duration": 0.018199,
     "end_time": "2024-09-16T18:00:15.963019",
     "exception": false,
     "start_time": "2024-09-16T18:00:15.944820",
     "status": "completed"
    },
    "tags": []
   },
   "outputs": [],
   "source": [
    "# important columns\n",
    "training_col = ['Day', 'Population', '# Tested', 'Long', 'Lat']\n",
    "target_col = ['# Deaths', '# Confirmed_Cases', '# Recovered']"
   ]
  },
  {
   "cell_type": "code",
   "execution_count": 18,
   "id": "ec04a9ae",
   "metadata": {
    "execution": {
     "iopub.execute_input": "2024-09-16T18:00:15.982599Z",
     "iopub.status.busy": "2024-09-16T18:00:15.982200Z",
     "iopub.status.idle": "2024-09-16T18:00:16.000084Z",
     "shell.execute_reply": "2024-09-16T18:00:15.998949Z"
    },
    "papermill": {
     "duration": 0.030444,
     "end_time": "2024-09-16T18:00:16.002733",
     "exception": false,
     "start_time": "2024-09-16T18:00:15.972289",
     "status": "completed"
    },
    "tags": []
   },
   "outputs": [],
   "source": [
    "from sklearn.tree import DecisionTreeRegressor,plot_tree\n",
    "model = DecisionTreeRegressor()\n",
    "model = model.fit(train_set[training_col], train_set[target_col])"
   ]
  },
  {
   "cell_type": "code",
   "execution_count": 19,
   "id": "d6e47b94",
   "metadata": {
    "execution": {
     "iopub.execute_input": "2024-09-16T18:00:16.022151Z",
     "iopub.status.busy": "2024-09-16T18:00:16.021692Z",
     "iopub.status.idle": "2024-09-16T18:00:16.039080Z",
     "shell.execute_reply": "2024-09-16T18:00:16.037815Z"
    },
    "papermill": {
     "duration": 0.030214,
     "end_time": "2024-09-16T18:00:16.041851",
     "exception": false,
     "start_time": "2024-09-16T18:00:16.011637",
     "status": "completed"
    },
    "tags": []
   },
   "outputs": [],
   "source": [
    "\n",
    "validation_prediction = model.predict(validation_set[training_col])\n",
    "train_prediction = model.predict(train_set[training_col])\n",
    "\n",
    "test_prediction = model.predict(test_data[training_col])"
   ]
  },
  {
   "cell_type": "markdown",
   "id": "878ea276",
   "metadata": {
    "papermill": {
     "duration": 0.0093,
     "end_time": "2024-09-16T18:00:16.060556",
     "exception": false,
     "start_time": "2024-09-16T18:00:16.051256",
     "status": "completed"
    },
    "tags": []
   },
   "source": [
    "# creating prediction for submission"
   ]
  },
  {
   "cell_type": "code",
   "execution_count": 20,
   "id": "4cc4e602",
   "metadata": {
    "execution": {
     "iopub.execute_input": "2024-09-16T18:00:16.081276Z",
     "iopub.status.busy": "2024-09-16T18:00:16.080858Z",
     "iopub.status.idle": "2024-09-16T18:00:16.086391Z",
     "shell.execute_reply": "2024-09-16T18:00:16.085032Z"
    },
    "papermill": {
     "duration": 0.019035,
     "end_time": "2024-09-16T18:00:16.089005",
     "exception": false,
     "start_time": "2024-09-16T18:00:16.069970",
     "status": "completed"
    },
    "tags": []
   },
   "outputs": [],
   "source": [
    "column_names = ['ForcastId', '#Deaths', '# Confirmed_cases', '# Recovered']"
   ]
  },
  {
   "cell_type": "code",
   "execution_count": 21,
   "id": "bbf49cd4",
   "metadata": {
    "execution": {
     "iopub.execute_input": "2024-09-16T18:00:16.108936Z",
     "iopub.status.busy": "2024-09-16T18:00:16.108491Z",
     "iopub.status.idle": "2024-09-16T18:00:16.118891Z",
     "shell.execute_reply": "2024-09-16T18:00:16.117728Z"
    },
    "papermill": {
     "duration": 0.022996,
     "end_time": "2024-09-16T18:00:16.121380",
     "exception": false,
     "start_time": "2024-09-16T18:00:16.098384",
     "status": "completed"
    },
    "tags": []
   },
   "outputs": [],
   "source": [
    "sub_df = test_data\n",
    "sub_df[['#Deaths', '# Confirmed_cases', '# Recovered']] = test_prediction\n",
    "sub_df = sub_df[['#Deaths', '# Confirmed_cases', '# Recovered']]\n",
    "sub_df['ForcastId'] = sub_df.index\n",
    "sub_df = sub_df[column_names]"
   ]
  },
  {
   "cell_type": "code",
   "execution_count": 22,
   "id": "36e59bd2",
   "metadata": {
    "execution": {
     "iopub.execute_input": "2024-09-16T18:00:16.141316Z",
     "iopub.status.busy": "2024-09-16T18:00:16.140879Z",
     "iopub.status.idle": "2024-09-16T18:00:16.158026Z",
     "shell.execute_reply": "2024-09-16T18:00:16.156634Z"
    },
    "papermill": {
     "duration": 0.029965,
     "end_time": "2024-09-16T18:00:16.160537",
     "exception": false,
     "start_time": "2024-09-16T18:00:16.130572",
     "status": "completed"
    },
    "tags": []
   },
   "outputs": [
    {
     "data": {
      "text/html": [
       "<div>\n",
       "<style scoped>\n",
       "    .dataframe tbody tr th:only-of-type {\n",
       "        vertical-align: middle;\n",
       "    }\n",
       "\n",
       "    .dataframe tbody tr th {\n",
       "        vertical-align: top;\n",
       "    }\n",
       "\n",
       "    .dataframe thead th {\n",
       "        text-align: right;\n",
       "    }\n",
       "</style>\n",
       "<table border=\"1\" class=\"dataframe\">\n",
       "  <thead>\n",
       "    <tr style=\"text-align: right;\">\n",
       "      <th></th>\n",
       "      <th>ForcastId</th>\n",
       "      <th>#Deaths</th>\n",
       "      <th># Confirmed_cases</th>\n",
       "      <th># Recovered</th>\n",
       "    </tr>\n",
       "  </thead>\n",
       "  <tbody>\n",
       "    <tr>\n",
       "      <th>0</th>\n",
       "      <td>0</td>\n",
       "      <td>0.0</td>\n",
       "      <td>0.0</td>\n",
       "      <td>0.0</td>\n",
       "    </tr>\n",
       "    <tr>\n",
       "      <th>1</th>\n",
       "      <td>1</td>\n",
       "      <td>0.0</td>\n",
       "      <td>0.0</td>\n",
       "      <td>0.0</td>\n",
       "    </tr>\n",
       "    <tr>\n",
       "      <th>2</th>\n",
       "      <td>2</td>\n",
       "      <td>0.0</td>\n",
       "      <td>0.0</td>\n",
       "      <td>0.0</td>\n",
       "    </tr>\n",
       "    <tr>\n",
       "      <th>3</th>\n",
       "      <td>3</td>\n",
       "      <td>1.0</td>\n",
       "      <td>77.0</td>\n",
       "      <td>1.0</td>\n",
       "    </tr>\n",
       "    <tr>\n",
       "      <th>4</th>\n",
       "      <td>4</td>\n",
       "      <td>1.0</td>\n",
       "      <td>77.0</td>\n",
       "      <td>1.0</td>\n",
       "    </tr>\n",
       "    <tr>\n",
       "      <th>...</th>\n",
       "      <td>...</td>\n",
       "      <td>...</td>\n",
       "      <td>...</td>\n",
       "      <td>...</td>\n",
       "    </tr>\n",
       "    <tr>\n",
       "      <th>787</th>\n",
       "      <td>787</td>\n",
       "      <td>0.0</td>\n",
       "      <td>1.0</td>\n",
       "      <td>0.0</td>\n",
       "    </tr>\n",
       "    <tr>\n",
       "      <th>788</th>\n",
       "      <td>788</td>\n",
       "      <td>0.0</td>\n",
       "      <td>0.0</td>\n",
       "      <td>0.0</td>\n",
       "    </tr>\n",
       "    <tr>\n",
       "      <th>789</th>\n",
       "      <td>789</td>\n",
       "      <td>0.0</td>\n",
       "      <td>0.0</td>\n",
       "      <td>1.0</td>\n",
       "    </tr>\n",
       "    <tr>\n",
       "      <th>790</th>\n",
       "      <td>790</td>\n",
       "      <td>0.0</td>\n",
       "      <td>0.0</td>\n",
       "      <td>0.0</td>\n",
       "    </tr>\n",
       "    <tr>\n",
       "      <th>791</th>\n",
       "      <td>791</td>\n",
       "      <td>0.0</td>\n",
       "      <td>0.0</td>\n",
       "      <td>0.0</td>\n",
       "    </tr>\n",
       "  </tbody>\n",
       "</table>\n",
       "<p>792 rows × 4 columns</p>\n",
       "</div>"
      ],
      "text/plain": [
       "     ForcastId  #Deaths  # Confirmed_cases  # Recovered\n",
       "0            0      0.0                0.0          0.0\n",
       "1            1      0.0                0.0          0.0\n",
       "2            2      0.0                0.0          0.0\n",
       "3            3      1.0               77.0          1.0\n",
       "4            4      1.0               77.0          1.0\n",
       "..         ...      ...                ...          ...\n",
       "787        787      0.0                1.0          0.0\n",
       "788        788      0.0                0.0          0.0\n",
       "789        789      0.0                0.0          1.0\n",
       "790        790      0.0                0.0          0.0\n",
       "791        791      0.0                0.0          0.0\n",
       "\n",
       "[792 rows x 4 columns]"
      ]
     },
     "execution_count": 22,
     "metadata": {},
     "output_type": "execute_result"
    }
   ],
   "source": [
    "sub_df"
   ]
  },
  {
   "cell_type": "code",
   "execution_count": 23,
   "id": "9a5f8cd2",
   "metadata": {
    "execution": {
     "iopub.execute_input": "2024-09-16T18:00:16.180768Z",
     "iopub.status.busy": "2024-09-16T18:00:16.180309Z",
     "iopub.status.idle": "2024-09-16T18:00:16.190496Z",
     "shell.execute_reply": "2024-09-16T18:00:16.189324Z"
    },
    "papermill": {
     "duration": 0.023548,
     "end_time": "2024-09-16T18:00:16.193232",
     "exception": false,
     "start_time": "2024-09-16T18:00:16.169684",
     "status": "completed"
    },
    "tags": []
   },
   "outputs": [],
   "source": [
    "sub_df.to_csv('prediction.csv', index = False)"
   ]
  },
  {
   "cell_type": "code",
   "execution_count": null,
   "id": "372f3dcf",
   "metadata": {
    "papermill": {
     "duration": 0.008705,
     "end_time": "2024-09-16T18:00:16.211257",
     "exception": false,
     "start_time": "2024-09-16T18:00:16.202552",
     "status": "completed"
    },
    "tags": []
   },
   "outputs": [],
   "source": []
  }
 ],
 "metadata": {
  "kaggle": {
   "accelerator": "none",
   "dataSources": [
    {
     "databundleVersionId": 1588188,
     "sourceId": 22699,
     "sourceType": "competition"
    }
   ],
   "dockerImageVersionId": 30761,
   "isGpuEnabled": false,
   "isInternetEnabled": true,
   "language": "python",
   "sourceType": "notebook"
  },
  "kernelspec": {
   "display_name": "Python 3",
   "language": "python",
   "name": "python3"
  },
  "language_info": {
   "codemirror_mode": {
    "name": "ipython",
    "version": 3
   },
   "file_extension": ".py",
   "mimetype": "text/x-python",
   "name": "python",
   "nbconvert_exporter": "python",
   "pygments_lexer": "ipython3",
   "version": "3.10.14"
  },
  "papermill": {
   "default_parameters": {},
   "duration": 7.609984,
   "end_time": "2024-09-16T18:00:16.943075",
   "environment_variables": {},
   "exception": null,
   "input_path": "__notebook__.ipynb",
   "output_path": "__notebook__.ipynb",
   "parameters": {},
   "start_time": "2024-09-16T18:00:09.333091",
   "version": "2.6.0"
  }
 },
 "nbformat": 4,
 "nbformat_minor": 5
}
